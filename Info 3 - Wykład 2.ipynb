{
 "cells": [
  {
   "cell_type": "markdown",
   "metadata": {
    "slideshow": {
     "slide_type": "slide"
    }
   },
   "source": [
    "# W tym dokumencie:\n",
    "* Elementy pracy z systemem Linux\n",
    "    * Prawa dostępu\n",
    "    * Łączenie poleceń w większą całość - pipes\n",
    "    * Przekierowanie\n",
    "    * Wyszukiwanie w tekście\n",
    "    * Archiwizacja danych\n",
    "    * Procesy i zadania\n",
    "    * Programowanie w BASH, skrypty\n",
    "\n",
    "Źródła i literatura:\n",
    "* https://www.doc.ic.ac.uk/~wjk/UnixIntro/\n",
    "\n",
    "***"
   ]
  },
  {
   "cell_type": "markdown",
   "metadata": {},
   "source": [
    "## Prawa dostępu\n",
    "Ze względu na przeznaczenie do wykorzystania przez wielu użytkowników systemy z rodziny UNIX w zasadzie od początku wprowadzały system kontroli dostępu do plików (coś co w systemach w zamyśle 'osobistych' zaistniało w zasadzie niedawno).\n",
    "\n",
    "Prawa dostępu kontrolują jakie operacje są dopuszczalne dla użytkowników. Dla każdego pliku zdefiniowane jest jakie operacje mogą zostać wykonane przez trzy kategorie użytkowników. Prawa to: czytanie (r), zapis (w) i wykonanie (x), a kategorie użytkowników to: użytkownik (u), grupa (g) i inni (o). Prawa dostępu może zmienić właściciel (użytkownik) albo super-użytkownik tzw. root (bo może wszystko).\n",
    "\n",
    "Trochę o znaczeniu praw:\n",
    "* *r* oznacza prawo do odczytu. W przypadku plików jest to możliwość czytania pliku, w przypadku katalogu wylistowania jego zawartości.\n",
    "* *w* oznacza prawo do zapisu. W przypadku pliku oznacza prawo do modyfikacji, kasowania. W przypadku katalogu prawo do tworzenia nowych plików w katalogu.\n",
    "* *x* oznacza prawo do wykonania pliku, zazwyczaj jest to program bądź skrypt powłoki. W przypadku katalogu oznacza prawo wejścia do katalogu, ale nie wylistowania zawartość."
   ]
  },
  {
   "cell_type": "markdown",
   "metadata": {},
   "source": [
    "Prawa dostępu można sprawdzić wywołując ```ls``` z opcją ```-l```  \n",
    "wynik może wyglądać np. tak:  \n",
    "```ls -l```  \n",
    "```-rw-rw-r-- 1 sgepner sgepner  110559 mar  5 12:28  burza```  \n",
    "i oznacza, że użytkownik i grupa mają prawo czytania i modyfikacji, pozostali użytkownicy jedynie czytania.\n",
    "\n",
    "Do zmiany praw dostępu służy komenda ```chmod```, wywołuje się ją z opcjami, które determinują zmiany praw (*rwx*) dla konkretnych kategorii użytkowników: u,g i o. Np. następujące polecenie\n",
    "```chmod u+r plik``` nada prawa odczytu pliku jego właścicielowi, natomiast ```chmod g+w,o-r plik``` pozwoli na zapis grupie i uniemożliwi czytanie innym.\n",
    "\n",
    "Przykład:\n",
    "Do pliku fig1.png prawo do czytania i pisania mają wszyscy:"
   ]
  },
  {
   "cell_type": "code",
   "execution_count": 1,
   "metadata": {},
   "outputs": [
    {
     "name": "stdout",
     "output_type": "stream",
     "text": [
      "total 3308\n",
      "-rw-rw-r-- 1 sgepner sgepner  110559 mar  5 12:28  burza\n",
      "-rw-r--r-- 1 sgepner sgepner     303 mar  6 12:20  burza_short\n",
      "-rw-r--r-- 1 sgepner sgepner   13182 mar  3 16:24  \u001b[0m\u001b[01;35mfig1.png\u001b[0m\n",
      "-rw-rw-r-- 1 sgepner sgepner   17000 mar  3 16:23  \u001b[01;35mfig1.svg\u001b[0m\n",
      "-rw-rw-r-- 1 sgepner sgepner   16358 mar  3 16:24  \u001b[01;35mfig2.png\u001b[0m\n",
      "-rw-r--r-- 1 sgepner sgepner  419599 mar  6 13:28 'Info 3 - Wykład 1.ipynb'\n",
      "-rw-r--r-- 1 sgepner sgepner 1291382 mar  6 13:46 'Info 3 - Wykład 1.pdf'\n",
      "-rw-rw-r-- 1 sgepner sgepner   45703 mar  6 13:46 'Info 3 - Wykład 1.tex'\n",
      "-rw-r--r-- 1 sgepner sgepner  208330 mar 18 14:31 'Info 3 - Wykład 2.ipynb'\n",
      "-rw-r--r-- 1 sgepner sgepner   65458 mar  3 16:06  \u001b[01;35mquote-c-is-a-horrible-language-it-s-made-more-horrible-by-the-fact-that-a-lot-of-substandard-linus-torvalds-111-83-18.jpg\u001b[0m\u001b[K\n",
      "-rw-r--r-- 1 sgepner sgepner 1166196 mar  3 17:37  \u001b[01;35munix.png\u001b[0m\n",
      "-rw-r--r-- 1 sgepner sgepner    6150 mar  3 18:03  \u001b[01;35mZaznaczenie_004.png\u001b[0m\n",
      "-rw-r--r-- 1 sgepner sgepner    1768 mar  3 18:03  \u001b[01;35mZaznaczenie_005.png\u001b[0m\n"
     ]
    }
   ],
   "source": [
    "ls -l"
   ]
  },
  {
   "cell_type": "markdown",
   "metadata": {},
   "source": [
    "``` ls -l  ```   \n",
    "``` -|rwx|rwx|rwx ``` tu wszyscy mają prawo do wszystkiego\n",
    "\n",
    "Do zmiany praw dostępu służy komenta ```chmod```"
   ]
  },
  {
   "cell_type": "code",
   "execution_count": 11,
   "metadata": {},
   "outputs": [
    {
     "name": "stdout",
     "output_type": "stream",
     "text": [
      "-rw-rw-rw- 1 sgepner sgepner 13182 mar  3 16:24 \u001b[0m\u001b[01;35mfig1.png\u001b[0m\n"
     ]
    }
   ],
   "source": [
    "ls -l fig1.png"
   ]
  },
  {
   "cell_type": "markdown",
   "metadata": {},
   "source": [
    "Użytkownik, chce zabrać prawa innym i ograniczyć prawa grupy:"
   ]
  },
  {
   "cell_type": "code",
   "execution_count": 12,
   "metadata": {},
   "outputs": [],
   "source": [
    "chmod g-w,o-rw fig1.png"
   ]
  },
  {
   "cell_type": "markdown",
   "metadata": {},
   "source": [
    "W efekcie:"
   ]
  },
  {
   "cell_type": "code",
   "execution_count": 13,
   "metadata": {},
   "outputs": [
    {
     "name": "stdout",
     "output_type": "stream",
     "text": [
      "-rw-r----- 1 sgepner sgepner 13182 mar  3 16:24 \u001b[0m\u001b[01;35mfig1.png\u001b[0m\n"
     ]
    }
   ],
   "source": [
    "ls -l fig1.png"
   ]
  },
  {
   "cell_type": "markdown",
   "metadata": {},
   "source": [
    "**Ciekawostka**: Prawa dostępu można zapisywać w systemie *ósemkowym*. Wówczas ```rwx``` przedstawić można tak:\n",
    "\n",
    "* ---  0\n",
    "* --x  1\n",
    "* -w-  2\n",
    "* -wx  3\n",
    "* r--  4\n",
    "* r-x  5\n",
    "* rw-  6\n",
    "* rwx  7\n",
    "\n",
    "W takim zapisie zmiana praw pliku *fig1.png* na początkowe wygląda tak:"
   ]
  },
  {
   "cell_type": "code",
   "execution_count": 15,
   "metadata": {},
   "outputs": [
    {
     "name": "stdout",
     "output_type": "stream",
     "text": [
      "-rw-rw-rw- 1 sgepner sgepner 13182 mar  3 16:24 \u001b[0m\u001b[01;35mfig1.png\u001b[0m\n"
     ]
    }
   ],
   "source": [
    "chmod 666 fig1.png\n",
    "ls -l fig1.png"
   ]
  },
  {
   "cell_type": "markdown",
   "metadata": {},
   "source": [
    "A wcześniej wprowadzone ograniczenie to:"
   ]
  },
  {
   "cell_type": "code",
   "execution_count": 16,
   "metadata": {},
   "outputs": [
    {
     "name": "stdout",
     "output_type": "stream",
     "text": [
      "-rw-r-x--- 1 sgepner sgepner 13182 mar  3 16:24 \u001b[0m\u001b[01;32mfig1.png\u001b[0m\n"
     ]
    }
   ],
   "source": [
    "chmod 650 fig1.png\n",
    "ls -l fig1.png"
   ]
  },
  {
   "cell_type": "markdown",
   "metadata": {},
   "source": [
    "```chmod``` może działać też w trybie rekurencyjnym, jeżeli wywołany zostanie z flagą ```-r``` zmiany zostaną zastosowane do katalogu i całej zawartości w dół drzewa katalogowego."
   ]
  },
  {
   "cell_type": "markdown",
   "metadata": {},
   "source": [
    "### Zmiana właściciela\n",
    "Do zmiany właściciela pliku służy: ```chown```, natomiast grupę zmienia się przez ```chgrp```:  \n",
    "```chown [options] [nowy właściciel] file```"
   ]
  },
  {
   "cell_type": "markdown",
   "metadata": {},
   "source": [
    "Do zmiany właściciela pliku służy: ```chown``` zmiana grupy przez ```chgrp```."
   ]
  },
  {
   "cell_type": "code",
   "execution_count": 17,
   "metadata": {},
   "outputs": [
    {
     "name": "stdout",
     "output_type": "stream",
     "text": [
      "CHOWN(1)                         User Commands                        CHOWN(1)\n",
      "\n",
      "NAME\n",
      "       chown - change file owner and group\n",
      "\n",
      "SYNOPSIS\n",
      "       chown [OPTION]... [OWNER][:[GROUP]] FILE...\n",
      "       chown [OPTION]... --reference=RFILE FILE...\n",
      "\n",
      "DESCRIPTION\n",
      "       This manual page documents the GNU version of chown.  chown changes the\n",
      "       user and/or group ownership of each given file.  If only  an  owner  (a\n",
      "       user  name or numeric user ID) is given, that user is made the owner of\n",
      "       each given file, and the files' group is not changed.  If the owner  is\n",
      "       followed  by  a  colon  and a group name (or numeric group ID), with no\n",
      "       spaces between them, the group ownership of the  files  is  changed  as\n",
      "       well.  If a colon but no group name follows the user name, that user is\n",
      "       made the owner of the files and the group of the files  is  changed  to\n",
      "       that  user's  login  group.   If the colon and group are given, but the\n",
      "       owner is omitted, only the group of the files is changed; in this case,\n",
      "       chown  performs  the same function as chgrp.  If only a colon is given,\n",
      "       or if the entire operand is empty, neither the owner nor the  group  is\n",
      "       changed.\n",
      "\n",
      "OPTIONS\n",
      "       Change the owner and/or group of each FILE to OWNER and/or GROUP.  With\n",
      "       --reference, change the owner and group of each FILE to those of RFILE.\n",
      "\n",
      "       -c, --changes\n",
      "              like verbose but report only when a change is made\n",
      "\n",
      "       -f, --silent, --quiet\n",
      "              suppress most error messages\n",
      "\n",
      "       -v, --verbose\n",
      "              output a diagnostic for every file processed\n",
      "\n",
      "       --dereference\n",
      "              affect the referent of each symbolic link (this is the default),\n",
      "              rather than the symbolic link itself\n",
      "\n",
      "       -h, --no-dereference\n",
      "              affect  symbolic  links  instead  of any referenced file (useful\n",
      "              only on systems that can change the ownership of a symlink)\n",
      "\n",
      "       --from=CURRENT_OWNER:CURRENT_GROUP\n",
      "              change the owner and/or group of each file only if  its  current\n",
      "              owner  and/or  group  match those specified here.  Either may be\n",
      "              omitted, in which case a match is not required for  the  omitted\n",
      "              attribute\n",
      "\n",
      "       --no-preserve-root\n",
      "              do not treat '/' specially (the default)\n",
      "\n",
      "       --preserve-root\n",
      "              fail to operate recursively on '/'\n",
      "\n",
      "       --reference=RFILE\n",
      "              use  RFILE's  owner and group rather than specifying OWNER:GROUP\n",
      "              values\n",
      "\n",
      "       -R, --recursive\n",
      "              operate on files and directories recursively\n",
      "\n",
      "       The following options modify how a hierarchy is traversed when  the  -R\n",
      "       option  is  also  specified.   If  more than one is specified, only the\n",
      "       final one takes effect.\n",
      "\n",
      "       -H     if a command line argument is a symbolic link  to  a  directory,\n",
      "              traverse it\n",
      "\n",
      "       -L     traverse every symbolic link to a directory encountered\n",
      "\n",
      "       -P     do not traverse any symbolic links (default)\n",
      "\n",
      "       --help display this help and exit\n",
      "\n",
      "       --version\n",
      "              output version information and exit\n",
      "\n",
      "       Owner  is  unchanged  if  missing.   Group is unchanged if missing, but\n",
      "       changed to login group if implied by a ':' following a symbolic  OWNER.\n",
      "       OWNER and GROUP may be numeric as well as symbolic.\n",
      "\n",
      "EXAMPLES\n",
      "       chown root /u\n",
      "              Change the owner of /u to \"root\".\n",
      "\n",
      "       chown root:staff /u\n",
      "              Likewise, but also change its group to \"staff\".\n",
      "\n",
      "       chown -hR root /u\n",
      "              Change the owner of /u and subfiles to \"root\".\n",
      "\n",
      "AUTHOR\n",
      "       Written by David MacKenzie and Jim Meyering.\n",
      "\n",
      "REPORTING BUGS\n",
      "       GNU coreutils online help: <http://www.gnu.org/software/coreutils/>\n",
      "       Report chown translation bugs to <http://translationproject.org/team/>\n",
      "\n",
      "COPYRIGHT\n",
      "       Copyright  ©  2017  Free Software Foundation, Inc.  License GPLv3+: GNU\n",
      "       GPL version 3 or later <http://gnu.org/licenses/gpl.html>.\n",
      "       This is free software: you are free  to  change  and  redistribute  it.\n",
      "       There is NO WARRANTY, to the extent permitted by law.\n",
      "\n",
      "SEE ALSO\n",
      "       chown(2)\n",
      "\n",
      "       Full documentation at: <http://www.gnu.org/software/coreutils/chown>\n",
      "       or available locally via: info '(coreutils) chown invocation'\n",
      "\n",
      "GNU coreutils 8.28               January 2018                         CHOWN(1)\n"
     ]
    }
   ],
   "source": [
    "man chown"
   ]
  },
  {
   "cell_type": "markdown",
   "metadata": {},
   "source": [
    "## Łączenie poleceń w większą całość (Pipes)\n",
    "Polecenia powłoki można łączyć w celu uzyskania pożądanego efektu. Tzn. Wynik jednego polecenia stanowić może argument kolejnego. Służy temu operator '''|''' (pipe). Np:"
   ]
  },
  {
   "cell_type": "code",
   "execution_count": 134,
   "metadata": {},
   "outputs": [
    {
     "name": "stdout",
     "output_type": "stream",
     "text": [
      "Witaj, wielki mistrzu!\n",
      "\n",
      "Witaj! Przybiegam wolę twoją spełnić,\n"
     ]
    }
   ],
   "source": [
    "head burza -n 666 | tail -n 3"
   ]
  },
  {
   "cell_type": "markdown",
   "metadata": {},
   "source": [
    "utworzy proces ```head``` i ```tail```. ```head``` przetworzy pierwsze 666 linii pliku burza i przekieruje je jako argument dla ```tail```, które wyświetli 3 ostatnich linii.\n",
    "\n",
    "Przekierowanie '''|''' będziemy często wykorzystywać."
   ]
  },
  {
   "cell_type": "markdown",
   "metadata": {},
   "source": [
    "## Przekierowanie\n",
    "Poza operatorem ```|``` możemy też przekierowywać wynik działania procesu do pliku. Standardowo polecenia drukują na tzw. standardowe wyjście (ekran). Możemy jednak przekierować to wyjście do dowolnego pliku. W tym celu użyjemy operatorów ``` > ```, ```>>``` i ich wariantów.\n",
    "* ```>``` - tworzy nowy plik, lub nadpisuje już istniejący\n",
    "* ```>>```- dopisuje do istniejącego pliku lub tworzy nowy\n",
    "* ```1>```- przekierowanie wyjścia, bez błędów\n",
    "* ```2>```- przekierowanie błędów, bez wyjścia\n",
    "* ```>&```- przekierowanie wyjścia oraz błędów\n",
    "\n",
    "Przykład: Do pliku zapiszemy date, położenie, listę plików i wyświetlimy zawartość pliku:"
   ]
  },
  {
   "cell_type": "code",
   "execution_count": 162,
   "metadata": {},
   "outputs": [
    {
     "name": "stdout",
     "output_type": "stream",
     "text": [
      "pią, 20 mar 2020, 17:27:26 CET\n",
      "/home/sgepner/OneDrive/Dydaktyka/Info_3/Wykład\n",
      "burza\n",
      "burza_short\n",
      "fig1.png\n",
      "fig1.svg\n",
      "fig2.png\n",
      "Info 3 - Wykład 1.aux\n",
      "Info 3 - Wykład 1.ipynb\n",
      "Info 3 - Wykład 1.log\n",
      "Info 3 - Wykład 1.out\n",
      "Info 3 - Wykład 1.pdf\n",
      "Info 3 - Wykład 1.synctex.gz\n",
      "Info 3 - Wykład 1.tex\n",
      "Info 3 - Wykład 2.ipynb\n",
      "quote-c-is-a-horrible-language-it-s-made-more-horrible-by-the-fact-that-a-lot-of-substandard-linus-torvalds-111-83-18.jpg\n",
      "result_file\n",
      "unix.png\n",
      "Zaznaczenie_004.png\n",
      "Zaznaczenie_005.png\n"
     ]
    }
   ],
   "source": [
    "date > result_file\n",
    "pwd >> result_file\n",
    "ls >> result_file\n",
    "cat result_file"
   ]
  },
  {
   "cell_type": "markdown",
   "metadata": {},
   "source": [
    "Jeżeli powtórzymy pierwszą instrukcję, plik zostanie nadpisany:"
   ]
  },
  {
   "cell_type": "code",
   "execution_count": 163,
   "metadata": {},
   "outputs": [
    {
     "name": "stdout",
     "output_type": "stream",
     "text": [
      "pią, 20 mar 2020, 17:28:28 CET\n"
     ]
    }
   ],
   "source": [
    "date > result_file\n",
    "cat result_file"
   ]
  },
  {
   "cell_type": "markdown",
   "metadata": {},
   "source": [
    "Rozdzielmy jeszcze wynik od błędów:"
   ]
  },
  {
   "cell_type": "code",
   "execution_count": 164,
   "metadata": {},
   "outputs": [],
   "source": [
    "date 1> result_file 2> /dev/null"
   ]
  },
  {
   "cell_type": "markdown",
   "metadata": {},
   "source": [
    "**Ciekawostka:** W systemach Unixowych jest specjalny plik ```/dev/null```, reprezentuje on nicość, a wszystko co zostaje na niego przekierowane nie jest zapisywane i przestaje istnieć. Odniesienia do ```/dev/null``` stanowią obecnie kanonem kulturowy: [References in computer culture](https://en.wikipedia.org/wiki/Null_device#References_in_computer_culture). "
   ]
  },
  {
   "cell_type": "markdown",
   "metadata": {},
   "source": [
    "## Zabawy z plikami i tekstem\n",
    "Widzieliśmy już jak wyświetlić zawartość pliku na różne sposoby:\n",
    "    ``` cat ```, ``` more ```, ``` head ``` czy ``` tail ```.\n",
    "    \n",
    "Uzupełnimy teraz arsenał poleceń o ``` file ```, najlepiej niech wypowie się manual:"
   ]
  },
  {
   "cell_type": "code",
   "execution_count": 20,
   "metadata": {},
   "outputs": [
    {
     "name": "stdout",
     "output_type": "stream",
     "text": [
      "FILE(1)                   BSD General Commands Manual                  FILE(1)\n",
      "\n",
      "NAME\n",
      "     file — determine file type\n",
      "\n",
      "SYNOPSIS\n",
      "     file [-bcdEhiklLNnprsvzZ0] [--apple] [--extension] [--mime-encoding]\n",
      "          [--mime-type] [-e testname] [-F separator] [-f namefile]\n",
      "          [-m magicfiles] [-P name=value] file ...\n",
      "     file -C [-m magicfiles]\n",
      "     file [--help]\n",
      "\n",
      "DESCRIPTION\n",
      "     This manual page documents version 5.32 of the file command.\n",
      "\n",
      "     file tests each argument in an attempt to classify it.  There are three\n",
      "     sets of tests, performed in this order: filesystem tests, magic tests,\n",
      "     and language tests.  The first test that succeeds causes the file type to\n",
      "     be printed.\n",
      "\n",
      "     The type printed will usually contain one of the words text (the file\n",
      "     contains only printing characters and a few common control characters and\n",
      "     is probably safe to read on an ASCII terminal), executable (the file con‐\n",
      "     tains the result of compiling a program in a form understandable to some\n",
      "     UNIX kernel or another), or data meaning anything else (data is usually\n",
      "     “binary” or non-printable).  Exceptions are well-known file formats (core\n",
      "     files, tar archives) that are known to contain binary data.  When adding\n",
      "     local definitions to /etc/magic, make sure to preserve these keywords.\n",
      "     Users depend on knowing that all the readable files in a directory have\n",
      "     the word “text” printed.  Don't do as Berkeley did and change “shell\n",
      "     commands text” to “shell script”.\n",
      "\n",
      "     The filesystem tests are based on examining the return from a stat(2)\n",
      "     system call.  The program checks to see if the file is empty, or if it's\n",
      "     some sort of special file.  Any known file types appropriate to the sys‐\n",
      "     tem you are running on (sockets, symbolic links, or named pipes (FIFOs)\n",
      "     on those systems that implement them) are intuited if they are defined in\n",
      "     the system header file <sys/stat.h>.\n",
      "\n",
      "     The magic tests are used to check for files with data in particular fixed\n",
      "     formats.  The canonical example of this is a binary executable (compiled\n",
      "     program) a.out file, whose format is defined in <elf.h>, <a.out.h> and\n",
      "     possibly <exec.h> in the standard include directory.  These files have a\n",
      "     “magic number” stored in a particular place near the beginning of the\n",
      "     file that tells the UNIX operating system that the file is a binary exe‐\n",
      "     cutable, and which of several types thereof.  The concept of a “magic”\n",
      "     has been applied by extension to data files.  Any file with some invari‐\n",
      "     ant identifier at a small fixed offset into the file can usually be\n",
      "     described in this way.  The information identifying these files is read\n",
      "     from /etc/magic and the compiled magic file /usr/share/misc/magic.mgc, or\n",
      "     the files in the directory /usr/share/misc/magic if the compiled file\n",
      "     does not exist.  In addition, if $HOME/.magic.mgc or $HOME/.magic exists,\n",
      "     it will be used in preference to the system magic files.\n",
      "\n",
      "     If a file does not match any of the entries in the magic file, it is\n",
      "     examined to see if it seems to be a text file.  ASCII, ISO-8859-x, non-\n",
      "     ISO 8-bit extended-ASCII character sets (such as those used on Macintosh\n",
      "     and IBM PC systems), UTF-8-encoded Unicode, UTF-16-encoded Unicode, and\n",
      "     EBCDIC character sets can be distinguished by the different ranges and\n",
      "     sequences of bytes that constitute printable text in each set.  If a file\n",
      "     passes any of these tests, its character set is reported.  ASCII,\n",
      "     ISO-8859-x, UTF-8, and extended-ASCII files are identified as “text”\n",
      "     because they will be mostly readable on nearly any terminal; UTF-16 and\n",
      "     EBCDIC are only “character data” because, while they contain text, it is\n",
      "     text that will require translation before it can be read.  In addition,\n",
      "     file will attempt to determine other characteristics of text-type files.\n",
      "     If the lines of a file are terminated by CR, CRLF, or NEL, instead of the\n",
      "     Unix-standard LF, this will be reported.  Files that contain embedded\n",
      "     escape sequences or overstriking will also be identified.\n",
      "\n",
      "     Once file has determined the character set used in a text-type file, it\n",
      "     will attempt to determine in what language the file is written.  The lan‐\n",
      "     guage tests look for particular strings (cf.  <names.h>) that can appear\n",
      "     anywhere in the first few blocks of a file.  For example, the keyword .br\n",
      "     indicates that the file is most likely a troff(1) input file, just as the\n",
      "     keyword struct indicates a C program.  These tests are less reliable than\n",
      "     the previous two groups, so they are performed last.  The language test\n",
      "     routines also test for some miscellany (such as tar(1) archives).\n",
      "\n",
      "     Any file that cannot be identified as having been written in any of the\n",
      "     character sets listed above is simply said to be “data”.\n",
      "\n",
      "OPTIONS\n",
      "     --apple\n",
      "             Causes the file command to output the file type and creator code\n",
      "             as used by older MacOS versions. The code consists of eight let‐\n",
      "             ters, the first describing the file type, the latter the creator.\n",
      "\n",
      "     -b, --brief\n",
      "             Do not prepend filenames to output lines (brief mode).\n",
      "\n",
      "     -C, --compile\n",
      "             Write a magic.mgc output file that contains a pre-parsed version\n",
      "             of the magic file or directory.\n",
      "\n",
      "     -c, --checking-printout\n",
      "             Cause a checking printout of the parsed form of the magic file.\n",
      "             This is usually used in conjunction with the -m flag to debug a\n",
      "             new magic file before installing it.\n",
      "\n",
      "     -d      Prints internal debugging information to stderr.\n",
      "\n",
      "     -E      On filesystem errors (file not found etc), instead of handling\n",
      "             the error as regular output as POSIX mandates and keep going,\n",
      "             issue an error message and exit.\n",
      "\n",
      "     -e, --exclude testname\n",
      "             Exclude the test named in testname from the list of tests made to\n",
      "             determine the file type.  Valid test names are:\n",
      "\n",
      "             apptype   EMX application type (only on EMX).\n",
      "\n",
      "             ascii     Various types of text files (this test will try to\n",
      "                       guess the text encoding, irrespective of the setting of\n",
      "                       the ‘encoding’ option).\n",
      "\n",
      "             encoding  Different text encodings for soft magic tests.\n",
      "\n",
      "             tokens    Ignored for backwards compatibility.\n",
      "\n",
      "             cdf       Prints details of Compound Document Files.\n",
      "\n",
      "             compress  Checks for, and looks inside, compressed files.\n",
      "\n",
      "             elf       Prints ELF file details, provided soft magic tests are\n",
      "                       enabled and the elf magic is found.\n",
      "\n",
      "             soft      Consults magic files.\n",
      "\n",
      "             tar       Examines tar files.\n",
      "\n",
      "             text      A synonym for ‘ascii’.\n",
      "\n",
      "     --extension\n",
      "             Print a slash-separated list of valid extensions for the file\n",
      "             type found.\n",
      "\n",
      "     -F, --separator separator\n",
      "             Use the specified string as the separator between the filename\n",
      "             and the file result returned.  Defaults to ‘:’.\n",
      "\n",
      "     -f, --files-from namefile\n",
      "             Read the names of the files to be examined from namefile (one per\n",
      "             line) before the argument list.  Either namefile or at least one\n",
      "             filename argument must be present; to test the standard input,\n",
      "             use ‘-’ as a filename argument.  Please note that namefile is\n",
      "             unwrapped and the enclosed filenames are processed when this\n",
      "             option is encountered and before any further options processing\n",
      "             is done.  This allows one to process multiple lists of files with\n",
      "             different command line arguments on the same file invocation.\n",
      "             Thus if you want to set the delimiter, you need to do it before\n",
      "             you specify the list of files, like: “-F @ -f namefile”, instead\n",
      "             of: “-f namefile -F @”.\n",
      "\n",
      "     -h, --no-dereference\n",
      "             option causes symlinks not to be followed (on systems that sup‐\n",
      "             port symbolic links).  This is the default if the environment\n",
      "             variable POSIXLY_CORRECT is not defined.\n"
     ]
    },
    {
     "name": "stdout",
     "output_type": "stream",
     "text": [
      "\n",
      "     -i, --mime\n",
      "             Causes the file command to output mime type strings rather than\n",
      "             the more traditional human readable ones.  Thus it may say\n",
      "             ‘text/plain; charset=us-ascii’ rather than “ASCII text”.\n",
      "\n",
      "     --mime-type, --mime-encoding\n",
      "             Like -i, but print only the specified element(s).\n",
      "\n",
      "     -k, --keep-going\n",
      "             Don't stop at the first match, keep going.  Subsequent matches\n",
      "             will be have the string ‘\\012- ’ prepended.  (If you want a new‐\n",
      "             line, see the -r option.)  The magic pattern with the highest\n",
      "             strength (see the -l option) comes first.\n",
      "\n",
      "     -l, --list\n",
      "             Shows a list of patterns and their strength sorted descending by\n",
      "             magic(4) strength which is used for the matching (see also the -k\n",
      "             option).\n",
      "\n",
      "     -L, --dereference\n",
      "             option causes symlinks to be followed, as the like-named option\n",
      "             in ls(1) (on systems that support symbolic links).  This is the\n",
      "             default if the environment variable POSIXLY_CORRECT is defined.\n",
      "\n",
      "     -m, --magic-file magicfiles\n",
      "             Specify an alternate list of files and directories containing\n",
      "             magic.  This can be a single item, or a colon-separated list.  If\n",
      "             a compiled magic file is found alongside a file or directory, it\n",
      "             will be used instead.\n",
      "\n",
      "     -N, --no-pad\n",
      "             Don't pad filenames so that they align in the output.\n",
      "\n",
      "     -n, --no-buffer\n",
      "             Force stdout to be flushed after checking each file.  This is\n",
      "             only useful if checking a list of files.  It is intended to be\n",
      "             used by programs that want filetype output from a pipe.\n",
      "\n",
      "     -p, --preserve-date\n",
      "             On systems that support utime(3) or utimes(2), attempt to pre‐\n",
      "             serve the access time of files analyzed, to pretend that file\n",
      "             never read them.\n",
      "\n",
      "     -P, --parameter name=value\n",
      "             Set various parameter limits.\n",
      "\n",
      "                   Name         Default    Explanation\n",
      "                   indir        15         recursion limit for indirect magic\n",
      "                   name         30         use count limit for name/use magic\n",
      "                   elf_notes    256        max ELF notes processed\n",
      "                   elf_phnum    128        max ELF program sections processed\n",
      "                   elf_shnum    32768      max ELF sections processed\n",
      "                   regex        8192       length limit for regex searches\n",
      "                   bytes        1048576    max number of bytes to read from\n",
      "                                                                          file\n",
      "\n",
      "     -r, --raw\n",
      "             Don't translate unprintable characters to \\ooo.  Normally file\n",
      "             translates unprintable characters to their octal representation.\n",
      "\n",
      "     -s, --special-files\n",
      "             Normally, file only attempts to read and determine the type of\n",
      "             argument files which stat(2) reports are ordinary files.  This\n",
      "             prevents problems, because reading special files may have pecu‐\n",
      "             liar consequences.  Specifying the -s option causes file to also\n",
      "             read argument files which are block or character special files.\n",
      "             This is useful for determining the filesystem types of the data\n",
      "             in raw disk partitions, which are block special files.  This\n",
      "             option also causes file to disregard the file size as reported by\n",
      "             stat(2) since on some systems it reports a zero size for raw disk\n",
      "             partitions.\n",
      "\n",
      "     -v, --version\n",
      "             Print the version of the program and exit.\n",
      "\n",
      "     -z, --uncompress\n",
      "             Try to look inside compressed files.\n",
      "\n",
      "     -Z, --uncompress-noreport\n",
      "             Try to look inside compressed files, but report information about\n",
      "             the contents only not the compression.\n",
      "\n",
      "     -0, --print0\n",
      "             Output a null character ‘\\0’ after the end of the filename.  Nice\n",
      "             to cut(1) the output.  This does not affect the separator, which\n",
      "             is still printed.\n",
      "\n",
      "             If this option is repeated more than once, then file prints just\n",
      "             the filename followed by a NUL followed by the description (or\n",
      "             ERROR: text) followed by a second NUL for each entry.\n",
      "\n",
      "     --help  Print a help message and exit.\n",
      "\n",
      "FILES\n",
      "     /usr/share/misc/magic.mgc  Default compiled list of magic.\n",
      "     /usr/share/misc/magic      Directory containing default magic files.\n",
      "\n",
      "ENVIRONMENT\n",
      "     The environment variable MAGIC can be used to set the default magic file\n",
      "     name.  If that variable is set, then file will not attempt to open\n",
      "     $HOME/.magic.  file adds “.mgc” to the value of this variable as appro‐\n",
      "     priate.  However, file has to exist in order for file.mime to be consid‐\n",
      "     ered.  The environment variable POSIXLY_CORRECT controls (on systems that\n",
      "     support symbolic links), whether file will attempt to follow symlinks or\n",
      "     not.  If set, then file follows symlink, otherwise it does not.  This is\n",
      "     also controlled by the -L and -h options.\n",
      "\n",
      "SEE ALSO\n",
      "     hexdump(1), od(1), strings(1), magic(5)\n",
      "\n",
      "STANDARDS CONFORMANCE\n",
      "     This program is believed to exceed the System V Interface Definition of\n",
      "     FILE(CMD), as near as one can determine from the vague language contained\n",
      "     therein.  Its behavior is mostly compatible with the System V program of\n",
      "     the same name.  This version knows more magic, however, so it will pro‐\n",
      "     duce different (albeit more accurate) output in many cases.\n",
      "\n",
      "     The one significant difference between this version and System V is that\n",
      "     this version treats any white space as a delimiter, so that spaces in\n",
      "     pattern strings must be escaped.  For example,\n",
      "\n",
      "           >10     string  language impress        (imPRESS data)\n",
      "\n",
      "     in an existing magic file would have to be changed to\n",
      "\n",
      "           >10     string  language\\ impress       (imPRESS data)\n",
      "\n",
      "     In addition, in this version, if a pattern string contains a backslash,\n",
      "     it must be escaped.  For example\n",
      "\n",
      "           0       string          \\begindata      Andrew Toolkit document\n",
      "\n",
      "     in an existing magic file would have to be changed to\n",
      "\n",
      "           0       string          \\\\begindata     Andrew Toolkit document\n",
      "\n",
      "     SunOS releases 3.2 and later from Sun Microsystems include a file command\n",
      "     derived from the System V one, but with some extensions.  This version\n",
      "     differs from Sun's only in minor ways.  It includes the extension of the\n",
      "     ‘&’ operator, used as, for example,\n",
      "\n",
      "           >16     long&0x7fffffff >0              not stripped\n",
      "\n",
      "MAGIC DIRECTORY\n",
      "     The magic file entries have been collected from various sources, mainly\n",
      "     USENET, and contributed by various authors.  Christos Zoulas (address\n",
      "     below) will collect additional or corrected magic file entries.  A con‐\n",
      "     solidation of magic file entries will be distributed periodically.\n",
      "\n",
      "     The order of entries in the magic file is significant.  Depending on what\n",
      "     system you are using, the order that they are put together may be incor‐\n",
      "     rect.\n",
      "\n",
      "EXAMPLES\n",
      "           $ file file.c file /dev/{wd0a,hda}\n",
      "           file.c:   C program text\n",
      "           file:     ELF 32-bit LSB executable, Intel 80386, version 1 (SYSV),\n",
      "                     dynamically linked (uses shared libs), stripped\n",
      "           /dev/wd0a: block special (0/0)\n",
      "           /dev/hda: block special (3/0)\n",
      "\n",
      "           $ file -s /dev/wd0{b,d}\n",
      "           /dev/wd0b: data\n",
      "           /dev/wd0d: x86 boot sector\n",
      "\n",
      "           $ file -s /dev/hda{,1,2,3,4,5,6,7,8,9,10}\n",
      "           /dev/hda:   x86 boot sector\n",
      "           /dev/hda1:  Linux/i386 ext2 filesystem\n",
      "           /dev/hda2:  x86 boot sector\n",
      "           /dev/hda3:  x86 boot sector, extended partition table\n",
      "           /dev/hda4:  Linux/i386 ext2 filesystem\n",
      "           /dev/hda5:  Linux/i386 swap file\n",
      "           /dev/hda6:  Linux/i386 swap file\n",
      "           /dev/hda7:  Linux/i386 swap file\n",
      "           /dev/hda8:  Linux/i386 swap file\n",
      "           /dev/hda9:  empty\n",
      "           /dev/hda10: empty\n",
      "\n",
      "           $ file -i file.c file /dev/{wd0a,hda}\n",
      "           file.c:      text/x-c\n",
      "           file:        application/x-executable\n"
     ]
    },
    {
     "name": "stdout",
     "output_type": "stream",
     "text": [
      "           /dev/hda:    application/x-not-regular-file\n",
      "           /dev/wd0a:   application/x-not-regular-file\n",
      "\n",
      "HISTORY\n",
      "     There has been a file command in every UNIX since at least Research\n",
      "     Version 4 (man page dated November, 1973).  The System V version intro‐\n",
      "     duced one significant major change: the external list of magic types.\n",
      "     This slowed the program down slightly but made it a lot more flexible.\n",
      "\n",
      "     This program, based on the System V version, was written by Ian Darwin\n",
      "     ⟨ian@darwinsys.com⟩ without looking at anybody else's source code.\n",
      "\n",
      "     John Gilmore revised the code extensively, making it better than the\n",
      "     first version.  Geoff Collyer found several inadequacies and provided\n",
      "     some magic file entries.  Contributions of the ‘&’ operator by Rob McMa‐\n",
      "     hon, ⟨cudcv@warwick.ac.uk⟩, 1989.\n",
      "\n",
      "     Guy Harris, ⟨guy@netapp.com⟩, made many changes from 1993 to the present.\n",
      "\n",
      "     Primary development and maintenance from 1990 to the present by Christos\n",
      "     Zoulas ⟨christos@astron.com⟩.\n",
      "\n",
      "     Altered by Chris Lowth ⟨chris@lowth.com⟩, 2000: handle the -i option to\n",
      "     output mime type strings, using an alternative magic file and internal\n",
      "     logic.\n",
      "\n",
      "     Altered by Eric Fischer ⟨enf@pobox.com⟩, July, 2000, to identify charac‐\n",
      "     ter codes and attempt to identify the languages of non-ASCII files.\n",
      "\n",
      "     Altered by Reuben Thomas ⟨rrt@sc3d.org⟩, 2007-2011, to improve MIME sup‐\n",
      "     port, merge MIME and non-MIME magic, support directories as well as files\n",
      "     of magic, apply many bug fixes, update and fix a lot of magic, improve\n",
      "     the build system, improve the documentation, and rewrite the Python bind‐\n",
      "     ings in pure Python.\n",
      "\n",
      "     The list of contributors to the ‘magic’ directory (magic files) is too\n",
      "     long to include here.  You know who you are; thank you.  Many contribu‐\n",
      "     tors are listed in the source files.\n",
      "\n",
      "LEGAL NOTICE\n",
      "     Copyright (c) Ian F. Darwin, Toronto, Canada, 1986-1999.  Covered by the\n",
      "     standard Berkeley Software Distribution copyright; see the file COPYING\n",
      "     in the source distribution.\n",
      "\n",
      "     The files tar.h and is_tar.c were written by John Gilmore from his pub‐\n",
      "     lic-domain tar(1) program, and are not covered by the above license.\n",
      "\n",
      "RETURN CODE\n",
      "     file returns 0 on success, and non-zero on error.\n",
      "\n",
      "BUGS\n",
      "     Please report bugs and send patches to the bug tracker at\n",
      "     http://bugs.gw.com/ or the mailing list at ⟨file@mx.gw.com⟩ (visit\n",
      "     http://mx.gw.com/mailman/listinfo/file first to subscribe).\n",
      "\n",
      "TODO\n",
      "     Fix output so that tests for MIME and APPLE flags are not needed all over\n",
      "     the place, and actual output is only done in one place.  This needs a\n",
      "     design.  Suggestion: push possible outputs on to a list, then pick the\n",
      "     last-pushed (most specific, one hopes) value at the end, or use a default\n",
      "     if the list is empty.  This should not slow down evaluation.\n",
      "\n",
      "     The handling of MAGIC_CONTINUE and printing \\012- between entries is\n",
      "     clumsy and complicated; refactor and centralize.\n",
      "\n",
      "     Some of the encoding logic is hard-coded in encoding.c and can be moved\n",
      "     to the magic files if we had a !:charset annotation\n",
      "\n",
      "     Continue to squash all magic bugs.  See Debian BTS for a good source.\n",
      "\n",
      "     Store arbitrarily long strings, for example for %s patterns, so that they\n",
      "     can be printed out.  Fixes Debian bug #271672.  This can be done by allo‐\n",
      "     cating strings in a string pool, storing the string pool at the end of\n",
      "     the magic file and converting all the string pointers to relative offsets\n",
      "     from the string pool.\n",
      "\n",
      "     Add syntax for relative offsets after current level (Debian bug #466037).\n",
      "\n",
      "     Make file -ki work, i.e. give multiple MIME types.\n",
      "\n",
      "     Add a zip library so we can peek inside Office2007 documents to print\n",
      "     more details about their contents.\n",
      "\n",
      "     Add an option to print URLs for the sources of the file descriptions.\n",
      "\n",
      "     Combine script searches and add a way to map executable names to MIME\n",
      "     types (e.g. have a magic value for !:mime which causes the resulting\n",
      "     string to be looked up in a table).  This would avoid adding the same\n",
      "     magic repeatedly for each new hash-bang interpreter.\n",
      "\n",
      "     When a file descriptor is available, we can skip and adjust the buffer\n",
      "     instead of the hacky buffer management we do now.\n",
      "\n",
      "     Fix “name” and “use” to check for consistency at compile time (duplicate\n",
      "     “name”, “use” pointing to undefined “name” ).  Make “name” / “use” more\n",
      "     efficient by keeping a sorted list of names.  Special-case ^ to flip\n",
      "     endianness in the parser so that it does not have to be escaped, and doc‐\n",
      "     ument it.\n",
      "\n",
      "     If the offsets specified internally in the file exceed the buffer size (\n",
      "     HOWMANY variable in file.h), then we don't seek to that offset, but we\n",
      "     give up.  It would be better if buffer managements was done when the file\n",
      "     descriptor is available so move around the file.  One must be careful\n",
      "     though because this has performance (and thus security considerations).\n",
      "\n",
      "AVAILABILITY\n",
      "     You can obtain the original author's latest version by anonymous FTP on\n",
      "     ftp.astron.com in the directory /pub/file/file-X.YZ.tar.gz.\n",
      "\n",
      "BSD                            October 19, 2016                            BSD\n"
     ]
    }
   ],
   "source": [
    "man file"
   ]
  },
  {
   "cell_type": "markdown",
   "metadata": {},
   "source": [
    "czyli, krótko ```file``` wyświetla informację o pliku, np:"
   ]
  },
  {
   "cell_type": "code",
   "execution_count": 118,
   "metadata": {},
   "outputs": [
    {
     "name": "stdout",
     "output_type": "stream",
     "text": [
      "fig1.png: PNG image data, 388 x 141, 8-bit/color RGBA, non-interlaced\n",
      "fig1.svg: SVG Scalable Vector Graphics image\n",
      "burza: UTF-8 Unicode text, with very long lines\n"
     ]
    }
   ],
   "source": [
    "file fig1.png\n",
    "file fig1.svg\n",
    "file burza"
   ]
  },
  {
   "cell_type": "markdown",
   "metadata": {},
   "source": [
    "Kolejnym przydatnym poleceniem jest ```find```, w najprostszej wersji pozwala wyświetlić wszystkie pliki w dół drzewa katalogowego od miejsca wywołania."
   ]
  },
  {
   "cell_type": "code",
   "execution_count": 50,
   "metadata": {},
   "outputs": [
    {
     "name": "stdout",
     "output_type": "stream",
     "text": [
      ".\n",
      "./Info 3 - Wykład 1.pdf\n",
      "./Info 3 - Wykład 1.ipynb\n",
      "./Zaznaczenie_004.png\n",
      "./Info 3 - Wykład 2.ipynb\n",
      "./burza_short\n",
      "./burza\n",
      "./fig2.png\n",
      "./fig1.svg\n",
      "./.ipynb_checkpoints\n",
      "./.ipynb_checkpoints/Info 3 - Wykład 1-checkpoint.ipynb\n",
      "./.ipynb_checkpoints/Info 3 - Wykład 2-checkpoint.ipynb\n",
      "./Info 3 - Wykład 1.tex\n",
      "./fig1.png\n",
      "./unix.png\n",
      "./Zaznaczenie_005.png\n",
      "./quote-c-is-a-horrible-language-it-s-made-more-horrible-by-the-fact-that-a-lot-of-substandard-linus-torvalds-111-83-18.jpg\n"
     ]
    }
   ],
   "source": [
    "find"
   ]
  },
  {
   "cell_type": "markdown",
   "metadata": {},
   "source": [
    "```find``` można wzbogacić o wiele opcji (patrz ```man```), najprzydatniejsze to:\n",
    "* -maxdepth, -mindepth - określa zasięg (głębokość) działania\n",
    "* -type określa typ pliku:\n",
    "    * -type d - katalog,\n",
    "    * -type l - dowiązanie,\n",
    "    * -type f - zwykły plik\n",
    "    * oraz kilka innych\n",
    "\n",
    "np:"
   ]
  },
  {
   "cell_type": "code",
   "execution_count": 125,
   "metadata": {},
   "outputs": [
    {
     "name": "stdout",
     "output_type": "stream",
     "text": [
      "../../Info_CS_1\n",
      "../../References\n",
      "../../C++\n",
      "../../Info_3\n",
      "../../KAP_ACFD\n",
      "../../Metody_Numeryczne\n",
      "../../Mechanika_Plynow_2\n",
      "../../Dyplomy\n",
      "../../Mechanika_Plynow_1\n",
      "../../Info_CS_2\n",
      "../../MOMP_CFD\n"
     ]
    }
   ],
   "source": [
    "find ../../ -maxdepth 1 -mindepth 1 -type d"
   ]
  },
  {
   "cell_type": "markdown",
   "metadata": {},
   "source": [
    "wyświetli tylko katalogi zaczynając od położenia w drzewie katalogowym dwa katalogi w górę (../../) z ograniczeniem głębokości przeszukiwania."
   ]
  },
  {
   "cell_type": "markdown",
   "metadata": {},
   "source": [
    "### Wyszukiwanie w tekście (ale nie tylko) - ```grep```\n",
    "```grep``` - global regular expression print, drukuje linie, które zawierają wzorzec będący argumentem wywołania. Działanie ```grep``` pokażemy na przykładzie *Burzy* Williama Szekspira:\n",
    "\n",
    "Pierwsze 10 linii pliku to:"
   ]
  },
  {
   "cell_type": "code",
   "execution_count": 59,
   "metadata": {},
   "outputs": [
    {
     "name": "stdout",
     "output_type": "stream",
     "text": [
      "Burza\n",
      "OSOBY:\n",
      "ALONSO, król neapolitański.\n",
      "SEBASTIAN, brat jego.\n",
      "PROSPERO, prawy książę Mediolanu.\n",
      "ANTONIO, brat jego, przywłaszczyciel księstwa.\n",
      "FERDYNAND, syn króla neapolitańskiego.\n",
      "GONZALO, poczciwy stary radca króla Neapolu.\n",
      "ADRIAN, FRANCISKO, panowie.\n",
      "KALIBAN, dziki i potworny niewolnik.\n"
     ]
    }
   ],
   "source": [
    "head -n 10 burza"
   ]
  },
  {
   "cell_type": "markdown",
   "metadata": {},
   "source": [
    "Wszystkie linie w których pojawia się *Ariel*:"
   ]
  },
  {
   "cell_type": "code",
   "execution_count": 63,
   "metadata": {},
   "outputs": [
    {
     "name": "stdout",
     "output_type": "stream",
     "text": [
      "Przyjdź, \u001b[01;31m\u001b[KAriel\u001b[m\u001b[Ku[10]!\n",
      "Wykona \u001b[01;31m\u001b[KAriel\u001b[m\u001b[K.\n",
      "(\u001b[01;31m\u001b[KAriel\u001b[m\u001b[K wychodzi)\n",
      "(wchodzi \u001b[01;31m\u001b[KAriel\u001b[m\u001b[K w postaci nimfy wodnej)\n",
      "Piękne zjawisko! Lotny \u001b[01;31m\u001b[KAriel\u001b[m\u001b[Ku,\n",
      "Wychodzi Kaliban — Wchodzi \u001b[01;31m\u001b[KAriel\u001b[m\u001b[K niewidzialny, gra i śpiewa, za nim Ferdynand.\n",
      "Wzrok się ich zmierzył. Piękny \u001b[01;31m\u001b[KAriel\u001b[m\u001b[Ku,\n",
      "(na stronie) Dobrześ się sprawił, \u001b[01;31m\u001b[KAriel\u001b[m\u001b[Ku! (głośno) Idźmy!\n",
      "(do \u001b[01;31m\u001b[KAriel\u001b[m\u001b[Ka) A teraz słuchaj, co jeszcze masz zrobić!\n",
      "Wchodzi \u001b[01;31m\u001b[KAriel\u001b[m\u001b[K niewidzialny, grając uroczystą melodię.\n",
      "Zasypia — \u001b[01;31m\u001b[KAriel\u001b[m\u001b[K wychodzi.\n",
      "Rozmawiają na stronie. Muzyka. Wchodzi \u001b[01;31m\u001b[KAriel\u001b[m\u001b[K niewidzialny.\n",
      "Wchodzi \u001b[01;31m\u001b[KAriel\u001b[m\u001b[K niewidzialny.\n",
      "\u001b[01;31m\u001b[KAriel\u001b[m\u001b[K gra na piszczałce i na bębenku.\n",
      "Grzmoty i błyskawice. Wbiega \u001b[01;31m\u001b[KAriel\u001b[m\u001b[K w postaci harpii, roztacza skrzydła nad stołem; bankiet znika.\n",
      "Udałeś pysznie harpię, \u001b[01;31m\u001b[KAriel\u001b[m\u001b[Ku,\n",
      "Hej, \u001b[01;31m\u001b[KAriel\u001b[m\u001b[Ku, sługo mój przebiegły!\n",
      "Lecz się nie zbliżaj, piękny \u001b[01;31m\u001b[KAriel\u001b[m\u001b[Ku,\n",
      "Więc wszystko dobrze. — Przybądź \u001b[01;31m\u001b[KAriel\u001b[m\u001b[Ku!\n",
      "Dzięki wam. — \u001b[01;31m\u001b[KAriel\u001b[m\u001b[Ku,\n",
      "Jak myśli szybki, przybądź, \u001b[01;31m\u001b[KAriel\u001b[m\u001b[Ku!\n",
      "Wchodzi \u001b[01;31m\u001b[KAriel\u001b[m\u001b[K.\n",
      "(wchodzi \u001b[01;31m\u001b[KAriel\u001b[m\u001b[K, niosąc błyszczące materie itd.)\n",
      "Prospero i \u001b[01;31m\u001b[KAriel\u001b[m\u001b[K zostają niewidzialni. — Wchodzą: Kaliban, Stefano i Trynkulo, przemokli.\n",
      "Słychać krzyk polujących. Wchodzą duchy w postaci psów, które podszczuwane przez Prospera i \u001b[01;31m\u001b[KAriel\u001b[m\u001b[Ka gonią za Stefanem, Trynkulem i Kalibanem.\n",
      "Wchodzą: Prospero w czarnoksięskiej odzieży i \u001b[01;31m\u001b[KAriel\u001b[m\u001b[K.\n",
      "Idź więc i wolność daj im, \u001b[01;31m\u001b[KAriel\u001b[m\u001b[Ku,\n",
      "Uroczysta muzyka. — Wchodzi \u001b[01;31m\u001b[KAriel\u001b[m\u001b[K za nim Alonso z gestami obłąkanego, prowadzony przez Gonzala, za nimi Sebastian i Antonio w tej samej postawie, prowadzeni przez Adriana i Franciska. Wszyscy wstępują w koło zakreślone przez Prospera i stoją w nim zaczarowani. Prospero, patrząc na nich, mówi:\n",
      "Śpiesz \u001b[01;31m\u001b[KAriel\u001b[m\u001b[Ku, przynieś mi z mej celi\n",
      "(wychodzi \u001b[01;31m\u001b[KAriel\u001b[m\u001b[K)\n",
      "Śpiesz \u001b[01;31m\u001b[KAriel\u001b[m\u001b[Ku, wkrótce będziesz wolny!\n",
      "Wraca \u001b[01;31m\u001b[KAriel\u001b[m\u001b[K, a śpiewając, pomaga ubierać się Prosperowi.\n",
      "(wchodzi \u001b[01;31m\u001b[KAriel\u001b[m\u001b[K, za nim Kapitan i Bosman, odurzeni)\n",
      "(do \u001b[01;31m\u001b[KAriel\u001b[m\u001b[Ka) Leć, duchu, rozwiąż potęgę mych czarów,\n",
      "Wróć teraz wolność. (wychodzi \u001b[01;31m\u001b[KAriel\u001b[m\u001b[K)\n",
      "Wraca \u001b[01;31m\u001b[KAriel\u001b[m\u001b[K, pędząc przed sobą Kalibana, Stefana i Trynkula, w ukradzionej odzieży.\n",
      "Mój \u001b[01;31m\u001b[KAriel\u001b[m\u001b[Ku, ptaszku mój kochany,\n",
      "\u001b[01;31m\u001b[KAriel\u001b[m\u001b[Ku — ze względu na rytm wiersza należy wymawiać jak wyraz czterosylabowy: Aryjelu. [przypis edytorski]\n",
      "Sebastian — imię to (podobnie jak: \u001b[01;31m\u001b[KAriel\u001b[m\u001b[K, Mediolan) w tym tłumaczeniu w partiach wierszem należy czytać dla zachowania rytmu wiersza jak wyraz czterosylabowy: Sebastyjan; a za tym również inne formy odmiany: Sebastyjanie itd. [przypis edytorski]\n"
     ]
    }
   ],
   "source": [
    "grep Ariel burza"
   ]
  },
  {
   "cell_type": "markdown",
   "metadata": {},
   "source": [
    "```grep``` jest szczególnie przydatny w połączeniu przez przekierowanie ```|``` z poleceniami ```ls``` lub ```find```.  \n",
    "Możemy np. wylistować jedynie pliki .png:"
   ]
  },
  {
   "cell_type": "code",
   "execution_count": 67,
   "metadata": {},
   "outputs": [
    {
     "name": "stdout",
     "output_type": "stream",
     "text": [
      "-rw-r-x--- 1 sgepner sgepner   13182 mar  3 16:24 fig1.\u001b[01;31m\u001b[Kpng\u001b[m\u001b[K\n",
      "-rw-rw-r-- 1 sgepner sgepner   16358 mar  3 16:24 fig2.\u001b[01;31m\u001b[Kpng\u001b[m\u001b[K\n",
      "-rw-r--r-- 1 sgepner sgepner 1166196 mar  3 17:37 unix.\u001b[01;31m\u001b[Kpng\u001b[m\u001b[K\n",
      "-rw-r--r-- 1 sgepner sgepner    6150 mar  3 18:03 Zaznaczenie_004.\u001b[01;31m\u001b[Kpng\u001b[m\u001b[K\n",
      "-rw-r--r-- 1 sgepner sgepner    1768 mar  3 18:03 Zaznaczenie_005.\u001b[01;31m\u001b[Kpng\u001b[m\u001b[K\n"
     ]
    }
   ],
   "source": [
    "ls -l |grep png"
   ]
  },
  {
   "cell_type": "markdown",
   "metadata": {},
   "source": [
    "Albo przeszukać drzewo katalogowe na żądaną głębokość:"
   ]
  },
  {
   "cell_type": "code",
   "execution_count": 68,
   "metadata": {},
   "outputs": [
    {
     "name": "stdout",
     "output_type": "stream",
     "text": [
      "./Zaznaczenie_004.\u001b[01;31m\u001b[Kpng\u001b[m\u001b[K\n",
      "./fig2.\u001b[01;31m\u001b[Kpng\u001b[m\u001b[K\n",
      "./fig1.\u001b[01;31m\u001b[Kpng\u001b[m\u001b[K\n",
      "./unix.\u001b[01;31m\u001b[Kpng\u001b[m\u001b[K\n",
      "./Zaznaczenie_005.\u001b[01;31m\u001b[Kpng\u001b[m\u001b[K\n"
     ]
    }
   ],
   "source": [
    "find | grep png"
   ]
  },
  {
   "cell_type": "markdown",
   "metadata": {},
   "source": [
    "Możemy np. wykonać operację na wszystkich plikach pasujących to wzorca (też rozsianych po katalogach). powiedzmy, że chcemy usunąć wszystkie pliki png:"
   ]
  },
  {
   "cell_type": "markdown",
   "metadata": {},
   "source": [
    "```rm -maxdepth 3 `find | grep png` ```"
   ]
  },
  {
   "cell_type": "markdown",
   "metadata": {},
   "source": [
    "**Przykład z życia:** prowadzę obecnie obliczenia i generuję sporo plików z wynikami, które akurat nie są mi potrzebne. Ze względu na ograniczenie przestrzeni dyskowej muszę pilnować aby nie przekroczyć kwoty dyskowej (i nie narazić się na gniew admina). mam więc ustawioną pętlę (pętle w Bash omówimy za chwilę) w której wywołuję:  \n",
    "```rm -maxdepth 3 `find | grep chk; sleep 600```  \n",
    "aby co 10 minut posprzątać drzewo katalogowe z nieprzydatnych wyników."
   ]
  },
  {
   "cell_type": "markdown",
   "metadata": {},
   "source": [
    "#### Wyrażenia regularne\n",
    "Skorzystamy z okazji zabaw z ```grep``` i wspomnimy o wyrażeniach regularnych. Są to operacje, podobne do arytmetycznych pozwalające na znalezienie ciągów znaków, odpowiadających zapisanemu wyrażeniu. Wyrażenia definiuje się według określonych zasad, i tak:\n",
    "\n",
    "* Większość znaków odpowiada samym sobie (a,b, ..).\n",
    "* Operator nawiasów kwadratowych '['  ']' pozwala na dopasowanie do dowolnego znaku, a użyty z '^' dopasowuje do znaków z poza listy.\n",
    "* zakres znaków ustala się przez '-', np. 1-9 oznacza cyfry od 1 do 9.\n",
    "* '^' i '$' samodzielnie oznaczają początek i koniec linii\n",
    "* '.' - kropka, to dowolny znak\n",
    "\n",
    "Przeszukajmy plik burza, ograniczając się do linii od 400 do 500 szukając fraz przy uzyciu wyrażeń regularnych. Szukamy fraz rozpoczynających się od spacji (literalizacja przez ```\\```), litery *W* lub *w*, niezawierającej na trzecim miejscu *a* lub *e*, w końcu na ostatnim miejscu ma się znaleźć litera z zakresu *a-h*."
   ]
  },
  {
   "cell_type": "code",
   "execution_count": 107,
   "metadata": {},
   "outputs": [
    {
     "name": "stdout",
     "output_type": "stream",
     "text": [
      "I\u001b[01;31m\u001b[K wła\u001b[m\u001b[Ksnym kłamstwom\u001b[01;31m\u001b[K wie\u001b[m\u001b[Krzy — on uwierzył,\n",
      "Zamierzył\u001b[01;31m\u001b[K wła\u001b[m\u001b[Kdzę i tytuł przywłaszczyć.\n",
      "Dość\u001b[01;31m\u001b[K wie\u001b[m\u001b[Klkim państwem książki były dla mnie;\n",
      "Spragniony\u001b[01;31m\u001b[K wła\u001b[m\u001b[Kdzy, z królem Neapolu\n",
      "Przyrzeka z księstwa mnie i moich\u001b[01;31m\u001b[K wyg\u001b[m\u001b[Knać,\n"
     ]
    }
   ],
   "source": [
    "head -n 500 burza | tail -n 100 | grep \\ [Ww][^ae][a-h]"
   ]
  },
  {
   "cell_type": "markdown",
   "metadata": {},
   "source": [
    "## Archiwizacja danych\n",
    "Istnieje kilka narzędzi umożliwiających 'pakowanie' lików. Najpopularniejszym zdaje się być ```tar``` nazwa pochodzi of *tape archiver*, czyli archiwizacji na napędach taśmowych. Program wywołuje się wraz z opcjami. My ograniczymy się do:\n",
    "\n",
    "* c - stwórz archiwum\n",
    "* v - wyświetla pliki do pakowania / rozpakowania\n",
    "* f - nazwa archiwum podana jako argument\n",
    "* z - dodatkowo kompresuje archiwum\n",
    "* x - rozpakuj archiwum"
   ]
  },
  {
   "cell_type": "code",
   "execution_count": 98,
   "metadata": {},
   "outputs": [
    {
     "name": "stdout",
     "output_type": "stream",
     "text": [
      "fig1.png\n"
     ]
    }
   ],
   "source": [
    "tar cvfz aaa.tar.gz fig1.png"
   ]
  },
  {
   "cell_type": "code",
   "execution_count": 101,
   "metadata": {},
   "outputs": [
    {
     "name": "stdout",
     "output_type": "stream",
     "text": [
      "fig1.png\n"
     ]
    }
   ],
   "source": [
    "tar xvf aaa.tar.gz"
   ]
  },
  {
   "cell_type": "code",
   "execution_count": 99,
   "metadata": {},
   "outputs": [
    {
     "name": "stdout",
     "output_type": "stream",
     "text": [
      "total 3256\n",
      "-rw-r--r-- 1 sgepner sgepner   20480 mar  5 13:28  \u001b[0m\u001b[01;31maaa.tar\u001b[0m\n",
      "-rw-r--r-- 1 sgepner sgepner   20480 mar  5 13:28  \u001b[01;31maaa.tar.gz\u001b[0m\n",
      "-rw-rw-r-- 1 sgepner sgepner  110559 mar  5 12:28  burza\n",
      "-rw-rw-r-- 1 sgepner sgepner   13182 mar  3 16:24  \u001b[01;35mfig1.png\u001b[0m\n",
      "-rw-rw-r-- 1 sgepner sgepner   17000 mar  3 16:23  \u001b[01;35mfig1.svg\u001b[0m\n",
      "-rw-rw-r-- 1 sgepner sgepner   16358 mar  3 16:24  \u001b[01;35mfig2.png\u001b[0m\n",
      "-rw-r--r-- 1 sgepner sgepner    2920 mar  3 18:04 'Info 3 - Wykład 1.aux'\n",
      "-rw-r--r-- 1 sgepner sgepner  231815 mar  5 13:26 'Info 3 - Wykład 1.ipynb'\n",
      "-rw-r--r-- 1 sgepner sgepner   35451 mar  3 18:04 'Info 3 - Wykład 1.log'\n",
      "-rw-r--r-- 1 sgepner sgepner     699 mar  3 18:04 'Info 3 - Wykład 1.out'\n",
      "-rw-r--r-- 1 sgepner sgepner 1227271 mar  3 18:04 'Info 3 - Wykład 1.pdf'\n",
      "-rw-r--r-- 1 sgepner sgepner   21745 mar  3 18:04 \u001b[01;31m'Info 3 - Wykład 1.synctex.gz'\u001b[0m\n",
      "-rw-rw-r-- 1 sgepner sgepner   24086 mar  3 18:04 'Info 3 - Wykład 1.tex'\n",
      "-rw-rw-r-- 1 sgepner sgepner   24814 mar  3 17:58 'Info 3 - Wykład 1.tex~'\n",
      "-rw-rw-r-- 1 sgepner sgepner    1646 mar  3 12:26  lista\n",
      "-rw-rw-r-- 1 sgepner sgepner   21086 cze  2  2016  listy.odt\n",
      "-rw-r--r-- 1 sgepner sgepner   65458 mar  3 16:06  \u001b[01;35mquote-c-is-a-horrible-language-it-s-made-more-horrible-by-the-fact-that-a-lot-of-substandard-linus-torvalds-111-83-18.jpg\u001b[0m\u001b[K\n",
      "-rw-rw-r-- 1 sgepner sgepner  140942 mar  3 15:32  unix.pdf\n",
      "-rw-r--r-- 1 sgepner sgepner 1166196 mar  3 17:37  \u001b[01;35munix.png\u001b[0m\n",
      "-rw-r--r-- 1 sgepner sgepner   13765 lut 21 13:12 'Zasady przedmiotu.odt'\n",
      "-rw-r--r-- 1 sgepner sgepner   41633 lut 21 13:12 'Zasady przedmiotu.pdf'\n",
      "-rw-rw-r-- 1 sgepner sgepner   51050 mar  3 17:13  \u001b[01;35mZaznaczenie_004.bmp\u001b[0m\n",
      "-rw-r--r-- 1 sgepner sgepner    6150 mar  3 18:03  \u001b[01;35mZaznaczenie_004.png\u001b[0m\n",
      "-rw-rw-r-- 1 sgepner sgepner   11478 mar  3 17:15  \u001b[01;35mZaznaczenie_005.bmp\u001b[0m\n",
      "-rw-r--r-- 1 sgepner sgepner    1768 mar  3 18:03  \u001b[01;35mZaznaczenie_005.png\u001b[0m\n"
     ]
    }
   ],
   "source": [
    "ls -l "
   ]
  },
  {
   "cell_type": "markdown",
   "metadata": {},
   "source": [
    "## Procesy i zadania\n",
    "Powłoka ```bash``` oferuje duże możliwości kontroli nad zadaniami użytkownika. Nas interesować będzie wyświetlanie działających procesów: ```ps``` (process show). Kończenie procesów przez ```kill```.Przenoszenie zadań w stan uśpienia przez kombinacje Ctrl-Z, kontrola uśpionych zadań ```jobs``` oraz wizualizacja drzewa procesów ```pstree```.\n",
    "\n",
    "Zaczniemy od ```ps``` (flaga ```-f``` dodaje kilka szczegółów), który w podstawowej wersji wyświetla procesy działające w bieżącej sesji konsoli:"
   ]
  },
  {
   "cell_type": "code",
   "execution_count": 136,
   "metadata": {},
   "outputs": [
    {
     "name": "stdout",
     "output_type": "stream",
     "text": [
      "UID        PID  PPID  C STIME TTY          TIME CMD\n",
      "sgepner   8012 16766  0 14:38 pts/5    00:00:00 ps -f\n",
      "sgepner  16766 16755  0 mar17 pts/5    00:00:00 /bin/bash --rcfile /home/sgepner\n"
     ]
    }
   ],
   "source": [
    "ps -f"
   ]
  },
  {
   "cell_type": "markdown",
   "metadata": {},
   "source": [
    "Omówmy najważniejsze elementy wyniku:\n",
    "\n",
    "```UID        PID  PPID  C STIME TTY          TIME CMD\n",
    "sgepner  10422 16766  0 16:22 pts/5    00:00:00 ps -f```\n",
    "\n",
    "* UID - nazwa użytkownika będącego właścicielem procesu\n",
    "* PID - Numer identyfikacyjny procesu\n",
    "* PPID- Numer identyfikacyjny procesu nadrzędnego - rodzica\n",
    "* C - wykorzystanie procesora prze proces\n",
    "* STIME - Czas uruchomienia procesu\n",
    "* TTY - Terminal procesu\n",
    "* TIME - Całkowity czas wykorzystania procesora\n",
    "* CMD - Polecenie, które wywołało proces\n",
    "\n",
    "Inna przydatna flaga to ```-e``` - pozwala na wyświetlenie wszystkich procesów działających w systemie. Ponieważ może być ich bardzo dużo warto użyć razem z ```|grep```. Wyświetlmy wszystkie procesy użytkownika ```sgepner``` zawierające w sobie frazę ```bash```. Dodatkowo wynik ograniczymy do 4 linii:"
   ]
  },
  {
   "cell_type": "code",
   "execution_count": 142,
   "metadata": {},
   "outputs": [
    {
     "name": "stdout",
     "output_type": "stream",
     "text": [
      "sgepner    829  5599  0 mar14 pts/4    00:00:00 /bin/bash\n",
      "sgepner   5600  5599  0 lut11 pts/1    00:00:00 /bin/bash\n",
      "sgepner  11919 11918  0 14:50 pts/2    00:00:00 -bash\n",
      "sgepner  16117 16766  0 15:04 pts/5    00:00:00 grep --color=auto bash\n"
     ]
    }
   ],
   "source": [
    "ps -ef |grep sgepner |grep bash | head -n 4"
   ]
  },
  {
   "cell_type": "markdown",
   "metadata": {},
   "source": [
    "#### Znajdź i zabij (kill)\n",
    "Zdarza się, że jeden z procesów przestanie odpowiadać - zawiesi się. Albo po prostu nie chcemy go widzieć w puli procesów. Z pomocą przychodzi nam polecenie ```kill``` najczęściej wywoływane z opcją ```-9```. W celu określenia jaki proces chcemy \"zkilować\" musimy znać jego PID (patrz ```ps```). Powiedzmy, że uśmiercić chcemy proces powłoki o numerze PID=829, piszemy wówczas:\n",
    "\n",
    "``` kill 829 ```\n",
    "\n",
    "lub dla większej pewności powodzenia\n",
    "\n",
    "```kill -9 829 ```\n",
    "\n",
    "Różnica jest taka, że w pierwszym przypadku ```kill``` wysyła do procesu sygnał SIGTERM, czyli uprzejmą prośbę o zakończenie działania i zwolnienie zasobów. Flaga ```-9``` odpowiada SIGKILL oznacza natychmiastowe zakończenie działania.\n",
    "\n",
    "Ciekawym rozwinięciem jest ```killall``` pozwala na zabicie wszystkich procesów wywołanych konkretnym poleceniem. Np. jeżeli chcemy wyłączyć wszystkie uruchomione sesje ```autossh``` (utrzymuje persystentne połączenie, np. w celu podtrzymywania tunelu *ssh*) możemy zrobić tak:"
   ]
  },
  {
   "cell_type": "code",
   "execution_count": 145,
   "metadata": {},
   "outputs": [
    {
     "name": "stdout",
     "output_type": "stream",
     "text": [
      " 2101 ?        00:00:01 \u001b[01;31m\u001b[Kautossh\u001b[m\u001b[K\n",
      " 3851 ?        00:00:00 \u001b[01;31m\u001b[Kautossh\u001b[m\u001b[K\n"
     ]
    }
   ],
   "source": [
    "ps -e |grep autossh"
   ]
  },
  {
   "cell_type": "markdown",
   "metadata": {},
   "source": [
    "```kill -9 2101 3851```\n",
    "\n",
    "albo\n",
    "\n",
    "```killall autossh```"
   ]
  },
  {
   "cell_type": "markdown",
   "metadata": {},
   "source": [
    "#### Drzewo procesów\n",
    "Procesy powoływane sa do życia w sposób hierarchiczny. Tj. każdy proces wywodzi się z procesu rodzica, stąd numer PPID. Pierwszym procesem, jest ```init``` lub w systemie, na którym przygotowywany jest ten dokument ```systemd``` ([Dla zainteresowanych trochę więcej szczegółów pod tym linkiem.](https://en.wikipedia.org/wiki/Linux_startup_process#SysV_init))\n",
    "\n",
    "Drzewo procesów można wyświetlić używając ```pstree```. Jak zwykle dostępne jest wiele opcji (```man pstree```). My ograniczymy się do: \n",
    "* -p PID - pokaz proces o numerze PID\n",
    "* -T nie pokazuj wątków\n",
    "* -s pokaż rodziców"
   ]
  },
  {
   "cell_type": "markdown",
   "metadata": {},
   "source": [
    "  "
   ]
  },
  {
   "cell_type": "code",
   "execution_count": 155,
   "metadata": {},
   "outputs": [
    {
     "name": "stdout",
     "output_type": "stream",
     "text": [
      "systemd(1)───systemd(1589)───screen(5599)─┬─bash(829)\n",
      "                                          ├─bash(5600)───jupyter-noteboo(15339)+++\n",
      "                                          └─bash(18197)───top(21888)\n"
     ]
    }
   ],
   "source": [
    "pstree -p 5599 -T -s"
   ]
  },
  {
   "cell_type": "markdown",
   "metadata": {},
   "source": [
    "#### Kontrola procesów użytkownika\n",
    "Użytkownik, mając do dyspozycji powłokę może kontrolować wiele procesów. Zadania które wywołuje mogą działać 'w tle' (background) albo 'na wierzchu' (foreground). Na wierzchu może być tylko jedno zadanie, podczas gdy w tle działać może ich wiele. Dodatkowo działające zadania można przenosić w stan uśpienia przy użyciu kombinacji *Ctrl-Z*, przywoływać na pierwszy plan komendą ```fg```, odsyłać do pracy w tle używając ```bg``` czy w końcu zabić kombinacją *Ctrl-C* bądź ```kill```.\n",
    "\n",
    "By zadanie przenieść do tła zaraz po wywołaniu na jego końcu dodaje się ```&```. Do przykładu potrzebujemy procesu, który będzie działał odpowiednio długo, przeszukamy więc katalogi użytkowników i katalog systemowy, a wynik wraz ze wszystkimi błędami (```>&```) przekierujemy do plików:"
   ]
  },
  {
   "cell_type": "code",
   "execution_count": 165,
   "metadata": {},
   "outputs": [
    {
     "name": "stdout",
     "output_type": "stream",
     "text": [
      "[1] 1808\n",
      "[2] 1809\n"
     ]
    }
   ],
   "source": [
    "find / 1> result_file 2> /dev/null&\n",
    "find /home >& result_file2&"
   ]
  },
  {
   "cell_type": "markdown",
   "metadata": {},
   "source": [
    "Wywołaliśmy dwa zadania (jobs), ```ps``` pokaże co następuje:"
   ]
  },
  {
   "cell_type": "code",
   "execution_count": 166,
   "metadata": {},
   "outputs": [
    {
     "name": "stdout",
     "output_type": "stream",
     "text": [
      "  PID TTY          TIME CMD\n",
      " 1808 pts/5    00:00:00 find\n",
      " 1809 pts/5    00:00:00 find\n",
      " 1879 pts/5    00:00:00 ps\n",
      "16766 pts/5    00:00:00 bash\n"
     ]
    }
   ],
   "source": [
    "ps "
   ]
  },
  {
   "cell_type": "markdown",
   "metadata": {},
   "source": [
    "Możemy wyświetlić bieżące zadania poleceniem ```jobs```"
   ]
  },
  {
   "cell_type": "code",
   "execution_count": 167,
   "metadata": {},
   "outputs": [
    {
     "name": "stdout",
     "output_type": "stream",
     "text": [
      "[1]-  Running                 find / > result_file 2> /dev/null &\n",
      "[2]+  Running                 find /home &> result_file2 &\n"
     ]
    }
   ],
   "source": [
    "jobs"
   ]
  },
  {
   "cell_type": "markdown",
   "metadata": {},
   "source": [
    "W środowisku Jupiter nie mamy dostępu do kombinacji klawiszy *Ctrl-Z* i *Ctrl-C* zawieszanie i zabijanie procesów należy przećwiczyć we własnym zakresie.\n",
    "\n",
    "Możemy natomiast użyć ```kill``` wraz z identyfikatorem zadania (nie numerem PID):"
   ]
  },
  {
   "cell_type": "code",
   "execution_count": 168,
   "metadata": {},
   "outputs": [
    {
     "ename": "",
     "evalue": "1",
     "output_type": "error",
     "traceback": []
    }
   ],
   "source": [
    "kill %2"
   ]
  },
  {
   "cell_type": "code",
   "execution_count": 169,
   "metadata": {},
   "outputs": [
    {
     "name": "stdout",
     "output_type": "stream",
     "text": [
      "[1]+  Running                 find / > result_file 2> /dev/null &\n"
     ]
    }
   ],
   "source": [
    "jobs"
   ]
  },
  {
   "cell_type": "markdown",
   "metadata": {},
   "source": [
    "Albo podając PID:"
   ]
  },
  {
   "cell_type": "code",
   "execution_count": 170,
   "metadata": {},
   "outputs": [
    {
     "ename": "",
     "evalue": "1",
     "output_type": "error",
     "traceback": []
    }
   ],
   "source": [
    "kill 1808"
   ]
  },
  {
   "cell_type": "code",
   "execution_count": 172,
   "metadata": {},
   "outputs": [],
   "source": [
    "jobs"
   ]
  },
  {
   "cell_type": "code",
   "execution_count": 173,
   "metadata": {},
   "outputs": [
    {
     "name": "stdout",
     "output_type": "stream",
     "text": [
      "  PID TTY          TIME CMD\n",
      " 4004 pts/5    00:00:00 ps\n",
      "16766 pts/5    00:00:00 bash\n"
     ]
    }
   ],
   "source": [
    "ps"
   ]
  },
  {
   "cell_type": "markdown",
   "metadata": {},
   "source": [
    "Oba zadania zostały zakończone."
   ]
  },
  {
   "cell_type": "markdown",
   "metadata": {},
   "source": [
    "## Skrypty BASH"
   ]
  },
  {
   "cell_type": "markdown",
   "metadata": {},
   "source": [
    "TBA"
   ]
  },
  {
   "cell_type": "code",
   "execution_count": null,
   "metadata": {},
   "outputs": [],
   "source": []
  }
 ],
 "metadata": {
  "kernelspec": {
   "display_name": "Bash",
   "language": "bash",
   "name": "bash"
  },
  "language_info": {
   "codemirror_mode": "shell",
   "file_extension": ".sh",
   "mimetype": "text/x-sh",
   "name": "bash"
  }
 },
 "nbformat": 4,
 "nbformat_minor": 2
}
